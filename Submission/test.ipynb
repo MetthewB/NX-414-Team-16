{
 "cells": [
  {
   "cell_type": "markdown",
   "id": "8165f988",
   "metadata": {},
   "source": [
    "## Example of our best model's usage"
   ]
  },
  {
   "cell_type": "code",
   "execution_count": 1,
   "id": "e0e079c6",
   "metadata": {},
   "outputs": [],
   "source": [
    "# MUST be the first cell in the notebook\n",
    "import os\n",
    "os.environ['CUBLAS_WORKSPACE_CONFIG'] = ':4096:8'\n",
    "\n",
    "import random\n",
    "import torch\n",
    "from torch.utils.data import Dataset, DataLoader\n",
    "from torchvision import transforms\n",
    "from torchvision import models\n",
    "import torch.nn as nn\n",
    "from torch.optim.lr_scheduler import StepLR\n",
    "from utils import train_model, evaluate_model\n",
    "import torch.optim as optim\n",
    "import sys\n",
    "from utils import load_it_data, visualize_img, compute_ev_and_corr\n",
    "import matplotlib.pyplot as plt\n",
    "import numpy as np\n",
    "import gdown"
   ]
  },
  {
   "cell_type": "code",
   "execution_count": 2,
   "id": "f1524879",
   "metadata": {},
   "outputs": [],
   "source": [
    "path_to_data = '' ## Insert the folder where the data is, if you download in the same folder as this notebook then leave it blank\n",
    "\n",
    "stimulus_train, stimulus_val, stimulus_test, objects_train, objects_val, objects_test, spikes_train, spikes_val = load_it_data(path_to_data)"
   ]
  },
  {
   "cell_type": "code",
   "execution_count": 3,
   "id": "8ebc8a50",
   "metadata": {},
   "outputs": [
    {
     "name": "stdout",
     "output_type": "stream",
     "text": [
      "The dataset contains 2592 stimuli and 168 IT neurons\n",
      "Each stimulus have 3 channgels (RGB)\n",
      "The size of the image is 224x224\n"
     ]
    }
   ],
   "source": [
    "n_stimulus, n_channels, img_size, _ = stimulus_train.shape\n",
    "_, n_neurons = spikes_train.shape\n",
    "print('The dataset contains {} stimuli and {} IT neurons'.format(n_stimulus,n_neurons))\n",
    "print('Each stimulus have {} channgels (RGB)'.format(n_channels))\n",
    "print('The size of the image is {}x{}'.format(img_size,img_size))"
   ]
  },
  {
   "cell_type": "code",
   "execution_count": 4,
   "id": "4cad6267",
   "metadata": {},
   "outputs": [],
   "source": [
    "class ITNeuralActivity(Dataset):\n",
    "    def __init__(self, X, y=None, transform=None):\n",
    "        \"\"\"\n",
    "        Custom Dataset for IT neural activity prediction.\n",
    "\n",
    "        Args:\n",
    "            X (numpy array): Input stimuli (e.g., images).\n",
    "            y (numpy array, optional): Neural activity (e.g., spikes). Default is None for test data.\n",
    "            transform (callable, optional): Optional transform to be applied on the input stimuli.\n",
    "        \"\"\"\n",
    "        self.X = X\n",
    "        self.y = torch.from_numpy(y).float() if y is not None else None\n",
    "        self.transform = transform\n",
    "\n",
    "    def __len__(self):\n",
    "        return len(self.X)\n",
    "\n",
    "    def __getitem__(self, idx):\n",
    "        img = self.X[idx]\n",
    "        neural_activity = self.y[idx] if self.y is not None else None\n",
    "\n",
    "        if self.transform:\n",
    "            img = self.transform(torch.from_numpy(img).float())\n",
    "\n",
    "        return (img, neural_activity) if neural_activity is not None else img\n",
    "\n",
    "\n",
    "# Define the transform\n",
    "transform = transforms.Compose([\n",
    "    transforms.Normalize(mean=[0.485, 0.456, 0.406], std=[0.229, 0.224, 0.225])\n",
    "])\n",
    "\n",
    "# Create datasets with the transform\n",
    "train_dataset = ITNeuralActivity(stimulus_train, spikes_train, transform=transform)\n",
    "val_dataset = ITNeuralActivity(stimulus_val, spikes_val, transform=transform)\n",
    "test_dataset = ITNeuralActivity(stimulus_test, transform=transform)\n",
    "\n",
    "# Create dataloaders\n",
    "train_dataloader = DataLoader(train_dataset, batch_size=32, shuffle=True, num_workers=0)\n",
    "val_dataloader = DataLoader(val_dataset, batch_size=32, shuffle=False)\n",
    "test_dataloader = DataLoader(test_dataset, batch_size=32, shuffle=False)"
   ]
  },
  {
   "cell_type": "code",
   "execution_count": 5,
   "id": "5d0275f8",
   "metadata": {},
   "outputs": [],
   "source": [
    "def evaluate_model(model, dataloader, spikes_val, device='cpu'):\n",
    "    \"\"\"\n",
    "    Evaluate the model using explained variance and correlation.\n",
    "\n",
    "    Args:\n",
    "        model (nn.Module): The trained model.\n",
    "        dataloader (DataLoader): DataLoader for the dataset to evaluate.\n",
    "        spikes_val (numpy array): Ground truth neural activity for validation.\n",
    "        loss_function (nn.Module, optional): Loss function (if needed for logging).\n",
    "        device (str): Device to evaluate on ('cpu' or 'cuda').\n",
    "\n",
    "    Returns:\n",
    "        None\n",
    "    \"\"\"\n",
    "    model.to(device)\n",
    "    model.eval()\n",
    "\n",
    "    # Compute explained variance & correlation\n",
    "    overall_ev, overall_corr, ev_per_neuron, corr_per_neuron = compute_ev_and_corr(model, dataloader, spikes_val)\n",
    "\n",
    "    print(f'Overall explained variance: {overall_ev:.4f}')\n",
    "    print(f'Overall correlation: {overall_corr:.4f}')\n",
    "\n",
    "    # Plot histograms for explained variance & correlation\n",
    "    fig, axs = plt.subplots(1, 2, figsize=(12, 5))\n",
    "\n",
    "    axs[0].hist(ev_per_neuron, bins=20, color='blue', alpha=0.7, edgecolor='black')\n",
    "    axs[0].set_title('Explained Variance per Neuron')\n",
    "    axs[0].set_xlabel('Explained Variance')\n",
    "    axs[0].set_ylabel('Frequency')\n",
    "\n",
    "    axs[1].hist(corr_per_neuron, bins=20, color='green', alpha=0.7, edgecolor='black')\n",
    "    axs[1].set_title('Correlation per Neuron')\n",
    "    axs[1].set_xlabel('Correlation Coefficient')\n",
    "    axs[1].set_ylabel('Frequency')\n",
    "\n",
    "    plt.tight_layout()\n",
    "    plt.show()"
   ]
  },
  {
   "cell_type": "code",
   "execution_count": 6,
   "id": "c978f442",
   "metadata": {},
   "outputs": [
    {
     "name": "stdout",
     "output_type": "stream",
     "text": [
      "Model parameters: 18,415,656\n"
     ]
    },
    {
     "data": {
      "text/plain": [
       "<All keys matched successfully>"
      ]
     },
     "execution_count": 6,
     "metadata": {},
     "output_type": "execute_result"
    }
   ],
   "source": [
    "from torchvision.models import densenet201, DenseNet201_Weights\n",
    "\n",
    "# Load ImageNet‑pretrained backbone\n",
    "backbone = densenet201(weights=DenseNet201_Weights.IMAGENET1K_V1)\n",
    "\n",
    "# Replace classifier: DenseNet uses nn.Linear(in_features, 1000) by default\n",
    "in_features = backbone.classifier.in_features\n",
    "n_neurons = spikes_train.shape[1]\n",
    "\n",
    "backbone.classifier = nn.Linear(in_features, n_neurons)\n",
    "\n",
    "model = backbone.cpu()\n",
    "print(f\"Model parameters: {sum(p.numel() for p in model.parameters()):,}\")\n",
    "model.load_state_dict(torch.load('./models/DenseNet201.pth'))\n"
   ]
  },
  {
   "cell_type": "code",
   "execution_count": 7,
   "id": "6d88023b",
   "metadata": {},
   "outputs": [],
   "source": [
    "device = 'cpu'"
   ]
  },
  {
   "cell_type": "code",
   "execution_count": 8,
   "id": "03e83e27",
   "metadata": {},
   "outputs": [
    {
     "name": "stdout",
     "output_type": "stream",
     "text": [
      "Overall explained variance: 0.4937\n",
      "Overall correlation: 0.6971\n"
     ]
    },
    {
     "data": {
      "image/png": "[encoded data removed]",
      "text/plain": [
       "<Figure size 1200x500 with 2 Axes>"
      ]
     },
     "metadata": {},
     "output_type": "display_data"
    }
   ],
   "source": [
    "# Evaluate model on the validation set\n",
    "evaluate_model(model, val_dataloader, spikes_val, device=\"cpu\")"
   ]
  }
 ],
 "metadata": {
  "kernelspec": {
   "display_name": "base",
   "language": "python",
   "name": "python3"
  },
  "language_info": {
   "codemirror_mode": {
    "name": "ipython",
    "version": 3
   },
   "file_extension": ".py",
   "mimetype": "text/x-python",
   "name": "python",
   "nbconvert_exporter": "python",
   "pygments_lexer": "ipython3",
   "version": "3.12.3"
  }
 },
 "nbformat": 4,
 "nbformat_minor": 5
}
